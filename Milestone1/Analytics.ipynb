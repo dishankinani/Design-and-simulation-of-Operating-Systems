{
 "cells": [
  {
   "cell_type": "markdown",
   "metadata": {},
   "source": [
    "Test case = execute long.osx 0 small.osx 10 longCPU.osx 40"
   ]
  },
  {
   "cell_type": "code",
   "execution_count": 12,
   "metadata": {},
   "outputs": [],
   "source": [
    "class thread:\n",
    "    def __init__(self, name, arrival_time):\n",
    "        self.name = name\n",
    "        self.arrival_time = arrival_time\n",
    "        self.start_time = None\n",
    "        self.end_time = 0\n",
    "        self.waiting_time = 0\n",
    "        self.response_time = 0\n",
    "        self.turnaround_time = 0\n",
    "\n",
    "    def __str__(self):\n",
    "        return f\"Thread {self.name} (Arrival Time: {self.arrival_time}, End Time: {self.end_time})\"\n",
    "\n",
    "    def __repr__(self):\n",
    "        return self.__str__()\n",
    "    \n",
    "    def pid(self) -> int:\n",
    "        return int(self.name)\n",
    "    \n",
    "    def print_metrics(self):\n",
    "        print(f\"Thread {self.name}:\")\n",
    "        print(f\"Waiting Time: {self.waiting_time}\")\n",
    "        print(f\"Response Time: {self.response_time}\")\n",
    "        print(f\"Turnaround Time: {self.turnaround_time}\")\n",
    "        print()"
   ]
  },
  {
   "cell_type": "code",
   "execution_count": 47,
   "metadata": {},
   "outputs": [],
   "source": [
    "first = thread(1, 0)\n",
    "second = thread(3, 10)\n",
    "third = thread(5, 30)\n",
    "\n",
    "quantum_ratio = 2\n",
    "gantt=[1, 1, 1, 1, 1, 1, 1, 1, 1, 1, 1, 1, 3, 3, 3, 3, 3, 3, 3, 3, 3, 3, 3, 3, 3, 3, 3, 1, 1, 1, 1, 1, 1, 1, 1, 1, 1, 1, 1, 1, 1, 1, 1, 3, 3, 3, 3, 3, 3, 3, 3, 3, 3, 3, 3, 3, 3, 3, 3, 1, 1, 1, 1, 1, 3, 1, 1, 1, 1, 3, 3, 3, 3, 3, 3, 3, 3, 3, 3, 3, 3, 3, 3, 3, 3, 1, 1, 1, 1, 3, 3, 3, 3, 3, 3, 3, 3, 3, 3, 3, 3, 3, 3, 3, 3, 1, 1, 1, 1, 1, 1, 1, 1, 1, 1, 1, 1, 1, 1, 1, 1, 3, 3, 3, 3, 3, 3, 3, 3, 3, 3, 3, 3, 3, 3, 3, 3, 3, 3, 3, 3, 3, 3, 3, 3, 3, 3, 3, 3, 3, 3, 3, 3, 3, 3, 3, 3, 3, 3, 3, 3, 3, 3, 3, 3, 3, 3, 3, 3, 3, 3, 3, 3, 3, 3, 3, 3, 3, 3, 3, 3, 3, 3, 3, 3, 3, 3, 3, 3, 3, 3, 3, 3, 3, 3, 3, 3, 3, 3, 3, 3, 3, 3, 3, 3, 3, 3, 3, 3, 3, 3, 3, 3, 3, 3, 3, 3, 3, 3, 3, 3, 3, 3, 3, 3, 3, 3, 3, 3, 3, 3, 3, 3, 3, 3, 3, 3, 3, 3, 3, 3, 3, 3, 3, 3, 3, 3, 3, 3, 3, 3, 3, 3, 3, 3, 3, 3, 3, 3, 3, 3, 3, 3, 3, 3, 3, 3, 3, 3, 3, 3, 3, 3, 3, 3, 3, 3, 1, 1, 1, 1, 1, 1, 1, 1, 1, 1, 1, 1, 1, 1, 1, 1, 1, 1, 1, 1, 1, 1, 1, 1, 1, 1, 1, 1, 1, 1, 1, 1, 1, 1, 1, 1, 1, 1, 1, 1, 1, 1, 1, 1, 1, 1, 1, 1, 1, 1, 1, 3, 3, 3, 3, 3, 3, 3, 3, 3, 3, 3, 3, 3, 3, 3, 3, 3, 3, 3, 3, 3, 3, 3, 3, 3, 3, 3, 3, 3, 3, 3, 3, 3, 3, 3, 3, 3, 1, 1, 1, 1, 1, 1, 1, 1, 1, 1, 1, 1, 1, 1, 1, 1, 1, 1, 1, 1, 1, 1, 1, 1, 1, 1, 1, 1, 1, 1, 1, 1, 1, 1, 1, 1, 1, 1, 1, 1, 1, 1, 1, 1, 1, 1, 1, 1, 1, 1, 1, 1, 1, 1, 1]\n",
    "started = []\n",
    "finished = {}\n",
    "\n",
    "def find_last(arr, number):\n",
    "    for i in range(len(arr) - 1, -1, -1):\n",
    "        if arr[i] == number:\n",
    "            return i\n",
    "    return -1\n",
    "\n",
    "finished[first.pid()] = find_last(gantt, first.pid())\n",
    "finished[second.pid()] = find_last(gantt, second.pid())\n",
    "finished[third.pid()] = find_last(gantt, third.pid())\n",
    "\n",
    "for i in range(len(gantt)):\n",
    "    '''Need to record the start and end times of each thread in the gantt chart\n",
    "    and then calculate the waiting time, response time, and turnaround time for each pid'''\n",
    "    if gantt[i] == first.pid():\n",
    "        first.end_time = i\n",
    "        # calcualte waiting\n",
    "        if first.pid() not in started:\n",
    "            first.response_time = i - first.arrival_time\n",
    "            started.append(first.pid())\n",
    "        if i >= second.arrival_time and i < finished[second.pid()]:\n",
    "            second.waiting_time += 1\n",
    "        if i >= third.arrival_time and i < finished[third.pid()]:\n",
    "            third.waiting_time += 1\n",
    "            \n",
    "    if gantt[i] == second.pid():\n",
    "        second.end_time = i\n",
    "        if second.pid() not in started:\n",
    "            second.response_time = i - second.arrival_time\n",
    "            started.append(second.pid())\n",
    "        if i >= first.arrival_time and i < finished[first.pid()]:\n",
    "            first.waiting_time += 1\n",
    "        if i >= third.arrival_time and i < finished[third.pid()]:\n",
    "            third.waiting_time += 1\n",
    "            \n",
    "    if gantt[i] == third.pid():\n",
    "        third.end_time = i\n",
    "        if third.pid() not in started:\n",
    "            third.response_time = i - third.arrival_time-1\n",
    "            started.append(third.pid())\n",
    "        if i >= first.arrival_time and i < finished[first.pid()]:\n",
    "            first.waiting_time += 1\n",
    "        if i >= second.arrival_time and i < finished[second.pid()]:\n",
    "            second.waiting_time += 1\n",
    "        \n",
    "first.turnaround_time = first.end_time - first.arrival_time\n",
    "second.turnaround_time = second.end_time - second.arrival_time\n",
    "third.turnaround_time = third.end_time - third.arrival_time"
   ]
  },
  {
   "cell_type": "code",
   "execution_count": 48,
   "metadata": {},
   "outputs": [
    {
     "name": "stdout",
     "output_type": "stream",
     "text": [
      "Thread 1:\n",
      "Waiting Time: 257\n",
      "Response Time: 0\n",
      "Turnaround Time: 419\n",
      "\n",
      "Thread 3:\n",
      "Waiting Time: 98\n",
      "Response Time: 2\n",
      "Turnaround Time: 354\n",
      "\n",
      "Thread 5:\n",
      "Waiting Time: 0\n",
      "Response Time: 0\n",
      "Turnaround Time: -30\n",
      "\n"
     ]
    }
   ],
   "source": [
    "first.print_metrics()\n",
    "second.print_metrics()\n",
    "third.print_metrics()"
   ]
  },
  {
   "cell_type": "code",
   "execution_count": null,
   "metadata": {},
   "outputs": [],
   "source": []
  },
  {
   "cell_type": "code",
   "execution_count": null,
   "metadata": {},
   "outputs": [],
   "source": []
  }
 ],
 "metadata": {
  "kernelspec": {
   "display_name": "base",
   "language": "python",
   "name": "python3"
  },
  "language_info": {
   "codemirror_mode": {
    "name": "ipython",
    "version": 3
   },
   "file_extension": ".py",
   "mimetype": "text/x-python",
   "name": "python",
   "nbconvert_exporter": "python",
   "pygments_lexer": "ipython3",
   "version": "3.11.8"
  }
 },
 "nbformat": 4,
 "nbformat_minor": 2
}
