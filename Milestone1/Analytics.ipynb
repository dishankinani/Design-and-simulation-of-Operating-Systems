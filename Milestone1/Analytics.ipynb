{
 "cells": [
  {
   "cell_type": "markdown",
   "metadata": {},
   "source": [
    "Test case = execute long.osx 0 small.osx 10 longCPU.osx 40"
   ]
  },
  {
   "cell_type": "code",
   "execution_count": null,
   "metadata": {},
   "outputs": [],
   "source": [
    "def calculate_metrics(gantt_chart):\n",
    "    n = len(gantt_chart)\n",
    "    processes = set(gantt_chart)\n",
    "    process_dict = {p: {'arrival_time': None, 'burst_time': 0, 'start_time': None, 'end_time': None} for p in processes}\n",
    "    waiting_time = {p: 0 for p in processes}\n",
    "    response_time = {p: None for p in processes}\n",
    "    turnaround_time = {p: None for p in processes}\n",
    "\n",
    "    # Determine arrival time and burst time for each process\n",
    "    for i in range(n):\n",
    "        process = gantt_chart[i]            \n",
    "        process_dict[process]['burst_time'] += 1\n",
    "\n",
    "    # Calculate waiting time, response time, and turnaround time\n",
    "    current_time = 0\n",
    "    for i in range(n):\n",
    "        process = gantt_chart[i]\n",
    "        if process_dict[process]['start_time'] is None:\n",
    "            process_dict[process]['start_time'] = i\n",
    "            response_time[process] = i - process_dict[process]['arrival_time']\n",
    "        current_time += 1\n",
    "        process_dict[process]['end_time'] = i\n",
    "        for other_process in processes:\n",
    "            if other_process != process:\n",
    "                waiting_time[other_process] += 1\n",
    "\n",
    "    for process in processes:\n",
    "        turnaround_time[process] = process_dict[process]['end_time'] - process_dict[process]['arrival_time'] + 1\n",
    "\n",
    "    return waiting_time, response_time, turnaround_time\n",
    "\n",
    "# Example Gantt chart (list of program names)\n",
    "gantt_chart = ['A', 'B', 'A', 'C', 'C', 'C', 'B', 'D', 'D', 'D']\n",
    "\n",
    "# Calculate metrics\n",
    "waiting_time, response_time, turnaround_time = calculate_metrics(gantt_chart)\n",
    "\n",
    "# Output metrics\n",
    "for process in sorted(waiting_time.keys()):\n",
    "    print(f\"Process {process}:\")\n",
    "    print(f\"  Waiting Time: {waiting_time[process]}\")\n",
    "    print(f\"  Response Time: {response_time[process]}\")\n",
    "    print(f\"  Turnaround Time: {turnaround_time[process]}\")\n",
    "    print()\n"
   ]
  }
 ],
 "metadata": {
  "language_info": {
   "name": "python"
  }
 },
 "nbformat": 4,
 "nbformat_minor": 2
}
